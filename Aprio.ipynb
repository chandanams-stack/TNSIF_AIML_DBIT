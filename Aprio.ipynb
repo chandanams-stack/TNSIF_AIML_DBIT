{
  "nbformat": 4,
  "nbformat_minor": 0,
  "metadata": {
    "colab": {
      "provenance": [],
      "authorship_tag": "ABX9TyMtalvfieg6aHtMc4/lAhpX",
      "include_colab_link": true
    },
    "kernelspec": {
      "name": "python3",
      "display_name": "Python 3"
    },
    "language_info": {
      "name": "python"
    }
  },
  "cells": [
    {
      "cell_type": "markdown",
      "metadata": {
        "id": "view-in-github",
        "colab_type": "text"
      },
      "source": [
        "<a href=\"https://colab.research.google.com/github/chandanams-stack/TNSIF_AIML_DBIT/blob/main/Aprio.ipynb\" target=\"_parent\"><img src=\"https://colab.research.google.com/assets/colab-badge.svg\" alt=\"Open In Colab\"/></a>"
      ]
    },
    {
      "cell_type": "code",
      "execution_count": 13,
      "metadata": {
        "colab": {
          "base_uri": "https://localhost:8080/"
        },
        "id": "k6qOXAQZa6Pn",
        "outputId": "4ac1a224-13dd-4236-925a-a575bc1e83e7"
      },
      "outputs": [
        {
          "output_type": "stream",
          "name": "stdout",
          "text": [
            "Requirement already satisfied: mlxtend in /usr/local/lib/python3.12/dist-packages (0.23.4)\n",
            "Requirement already satisfied: pandas in /usr/local/lib/python3.12/dist-packages (2.2.2)\n",
            "Requirement already satisfied: scipy>=1.2.1 in /usr/local/lib/python3.12/dist-packages (from mlxtend) (1.16.1)\n",
            "Requirement already satisfied: numpy>=1.16.2 in /usr/local/lib/python3.12/dist-packages (from mlxtend) (2.0.2)\n",
            "Requirement already satisfied: scikit-learn>=1.3.1 in /usr/local/lib/python3.12/dist-packages (from mlxtend) (1.6.1)\n",
            "Requirement already satisfied: matplotlib>=3.0.0 in /usr/local/lib/python3.12/dist-packages (from mlxtend) (3.10.0)\n",
            "Requirement already satisfied: joblib>=0.13.2 in /usr/local/lib/python3.12/dist-packages (from mlxtend) (1.5.2)\n",
            "Requirement already satisfied: python-dateutil>=2.8.2 in /usr/local/lib/python3.12/dist-packages (from pandas) (2.9.0.post0)\n",
            "Requirement already satisfied: pytz>=2020.1 in /usr/local/lib/python3.12/dist-packages (from pandas) (2025.2)\n",
            "Requirement already satisfied: tzdata>=2022.7 in /usr/local/lib/python3.12/dist-packages (from pandas) (2025.2)\n",
            "Requirement already satisfied: contourpy>=1.0.1 in /usr/local/lib/python3.12/dist-packages (from matplotlib>=3.0.0->mlxtend) (1.3.3)\n",
            "Requirement already satisfied: cycler>=0.10 in /usr/local/lib/python3.12/dist-packages (from matplotlib>=3.0.0->mlxtend) (0.12.1)\n",
            "Requirement already satisfied: fonttools>=4.22.0 in /usr/local/lib/python3.12/dist-packages (from matplotlib>=3.0.0->mlxtend) (4.59.2)\n",
            "Requirement already satisfied: kiwisolver>=1.3.1 in /usr/local/lib/python3.12/dist-packages (from matplotlib>=3.0.0->mlxtend) (1.4.9)\n",
            "Requirement already satisfied: packaging>=20.0 in /usr/local/lib/python3.12/dist-packages (from matplotlib>=3.0.0->mlxtend) (25.0)\n",
            "Requirement already satisfied: pillow>=8 in /usr/local/lib/python3.12/dist-packages (from matplotlib>=3.0.0->mlxtend) (11.3.0)\n",
            "Requirement already satisfied: pyparsing>=2.3.1 in /usr/local/lib/python3.12/dist-packages (from matplotlib>=3.0.0->mlxtend) (3.2.3)\n",
            "Requirement already satisfied: six>=1.5 in /usr/local/lib/python3.12/dist-packages (from python-dateutil>=2.8.2->pandas) (1.17.0)\n",
            "Requirement already satisfied: threadpoolctl>=3.1.0 in /usr/local/lib/python3.12/dist-packages (from scikit-learn>=1.3.1->mlxtend) (3.6.0)\n"
          ]
        }
      ],
      "source": [
        "!pip install mlxtend pandas\n",
        "import warnings\n",
        "\n",
        "# Filter out deprecation warnings\n",
        "warnings.filterwarnings(\"ignore\", category=DeprecationWarning)"
      ]
    },
    {
      "cell_type": "code",
      "source": [
        "import pandas as pd\n",
        "from mlxtend.frequent_patterns import apriori, association_rules\n",
        "import warnings\n",
        "\n",
        "# Filter out deprecation warnings\n",
        "warnings.filterwarnings(\"ignore\", category=DeprecationWarning)"
      ],
      "metadata": {
        "id": "4JR6uO5YbGKh"
      },
      "execution_count": 25,
      "outputs": []
    },
    {
      "cell_type": "code",
      "source": [
        "# Step 1: Define the dataset\n",
        "dataset = [\n",
        "    ['Coffee', 'Donut', 'Sandwich'],\n",
        "    ['Coffee', 'Donut'],\n",
        "    ['Coffee', 'Sandwich'],\n",
        "    ['Coffee', 'Muffin'],\n",
        "    ['Donut', 'Muffin']\n",
        "]\n"
      ],
      "metadata": {
        "id": "op0a1YE8bGMy"
      },
      "execution_count": 14,
      "outputs": []
    },
    {
      "cell_type": "code",
      "source": [
        "# Step 2: Convert dataset into a DataFrame (one-hot encoded)\n",
        "df = pd.DataFrame(dataset, columns=['Item1','Item2','Item3'])\n",
        "print(\"Original Transactions:\")\n",
        "print(pd.DataFrame(dataset))\n"
      ],
      "metadata": {
        "colab": {
          "base_uri": "https://localhost:8080/"
        },
        "id": "Xcx5VM9_bGPR",
        "outputId": "5157619b-c0f5-4fd4-e807-f132ff50fdff"
      },
      "execution_count": 15,
      "outputs": [
        {
          "output_type": "stream",
          "name": "stdout",
          "text": [
            "Original Transactions:\n",
            "        0         1         2\n",
            "0  Coffee     Donut  Sandwich\n",
            "1  Coffee     Donut      None\n",
            "2  Coffee  Sandwich      None\n",
            "3  Coffee    Muffin      None\n",
            "4   Donut    Muffin      None\n"
          ]
        }
      ]
    },
    {
      "cell_type": "code",
      "source": [
        "# One-hot encoding\n",
        "from mlxtend.preprocessing import TransactionEncoder\n",
        "te = TransactionEncoder()\n",
        "te_data = te.fit(dataset).transform(dataset)\n",
        "df_encoded = pd.DataFrame(te_data, columns=te.columns_)\n",
        "print(\"\\nOne-Hot Encoded DataFrame:\")\n",
        "print(df_encoded)"
      ],
      "metadata": {
        "colab": {
          "base_uri": "https://localhost:8080/"
        },
        "id": "UY6pEUa_bGSu",
        "outputId": "a18ed689-b592-46f7-d2de-b6f09f3c953f"
      },
      "execution_count": 17,
      "outputs": [
        {
          "output_type": "stream",
          "name": "stdout",
          "text": [
            "\n",
            "One-Hot Encoded DataFrame:\n",
            "   Coffee  Donut  Muffin  Sandwich\n",
            "0    True   True   False      True\n",
            "1    True   True   False     False\n",
            "2    True  False   False      True\n",
            "3    True  False    True     False\n",
            "4   False   True    True     False\n"
          ]
        }
      ]
    },
    {
      "cell_type": "code",
      "source": [
        "# One-hot encoding\n",
        "from mlxtend.preprocessing import TransactionEncoder\n",
        "te = TransactionEncoder()\n",
        "te_data = te.fit(dataset).transform(dataset)\n",
        "df_encoded = pd.DataFrame(te_data, columns=te.columns_)\n",
        "print(\"\\nOne-Hot Encoded DataFrame:\")\n",
        "print(df_encoded)"
      ],
      "metadata": {
        "colab": {
          "base_uri": "https://localhost:8080/"
        },
        "id": "_awRpXvobGbU",
        "outputId": "0883f8ec-1397-4bb1-c296-06bf7dd64576"
      },
      "execution_count": 18,
      "outputs": [
        {
          "output_type": "stream",
          "name": "stdout",
          "text": [
            "\n",
            "One-Hot Encoded DataFrame:\n",
            "   Coffee  Donut  Muffin  Sandwich\n",
            "0    True   True   False      True\n",
            "1    True   True   False     False\n",
            "2    True  False   False      True\n",
            "3    True  False    True     False\n",
            "4   False   True    True     False\n"
          ]
        }
      ]
    },
    {
      "cell_type": "code",
      "source": [
        "# Step 3: Generate frequent itemsets with min_support = 0.4\n",
        "frequent_itemsets = apriori(df_encoded, min_support=0.4, use_colnames=True)\n",
        "print(\"\\nFrequent Itemsets (support >= 0.4):\")\n",
        "print(frequent_itemsets)\n"
      ],
      "metadata": {
        "colab": {
          "base_uri": "https://localhost:8080/"
        },
        "id": "WNEc2awObqIp",
        "outputId": "7487e309-a976-428d-e0f0-36c6e7be5a70"
      },
      "execution_count": 19,
      "outputs": [
        {
          "output_type": "stream",
          "name": "stdout",
          "text": [
            "\n",
            "Frequent Itemsets (support >= 0.4):\n",
            "   support            itemsets\n",
            "0      0.8            (Coffee)\n",
            "1      0.6             (Donut)\n",
            "2      0.4            (Muffin)\n",
            "3      0.4          (Sandwich)\n",
            "4      0.4     (Donut, Coffee)\n",
            "5      0.4  (Sandwich, Coffee)\n"
          ]
        }
      ]
    },
    {
      "cell_type": "code",
      "source": [
        "# Step 4: Generate association rules\n",
        "rules = association_rules(frequent_itemsets, metric=\"confidence\", min_threshold=0.1)\n",
        "print(\"\\nAll Association Rules:\")\n",
        "print(rules[['antecedents','consequents','support','confidence','lift']])"
      ],
      "metadata": {
        "colab": {
          "base_uri": "https://localhost:8080/"
        },
        "id": "RQF65fi0bqL_",
        "outputId": "d0c44c16-6805-43ac-e644-b177ced86196"
      },
      "execution_count": 20,
      "outputs": [
        {
          "output_type": "stream",
          "name": "stdout",
          "text": [
            "\n",
            "All Association Rules:\n",
            "  antecedents consequents  support  confidence      lift\n",
            "0     (Donut)    (Coffee)      0.4    0.666667  0.833333\n",
            "1    (Coffee)     (Donut)      0.4    0.500000  0.833333\n",
            "2  (Sandwich)    (Coffee)      0.4    1.000000  1.250000\n",
            "3    (Coffee)  (Sandwich)      0.4    0.500000  1.250000\n"
          ]
        }
      ]
    },
    {
      "cell_type": "code",
      "source": [
        "# Step 5: Filter rules with support >= 0.4 and confidence >= 0.6\n",
        "strong_rules = rules[(rules['support'] >= 0.4) & (rules['confidence'] >= 0.6)]\n",
        "print(\"\\nStrong Rules (support >= 0.4, confidence >= 0.6):\")\n",
        "print(strong_rules[['antecedents','consequents','support','confidence','lift']])\n"
      ],
      "metadata": {
        "colab": {
          "base_uri": "https://localhost:8080/"
        },
        "id": "KClZAzPybGes",
        "outputId": "43e4fd34-dae8-4432-8aae-ae17fe0ff395"
      },
      "execution_count": 24,
      "outputs": [
        {
          "output_type": "stream",
          "name": "stdout",
          "text": [
            "\n",
            "Strong Rules (support >= 0.4, confidence >= 0.6):\n",
            "  antecedents consequents  support  confidence      lift\n",
            "0     (Donut)    (Coffee)      0.4    0.666667  0.833333\n",
            "2  (Sandwich)    (Coffee)      0.4    1.000000  1.250000\n"
          ]
        }
      ]
    },
    {
      "cell_type": "code",
      "source": [
        "# Step 6: Interpretation Example\n",
        "if not strong_rules.empty:\n",
        "    first_rule = strong_rules.iloc[0]\n",
        "    print(f\"\\nInterpretation Example: If a customer buys {list(first_rule['antecedents'])}, \"\n",
        "          f\"they are likely to also buy {list(first_rule['consequents'])} \"\n",
        "          f\"(Confidence: {first_rule['confidence']:.2f}, Lift: {first_rule['lift']:.2f}).\")"
      ],
      "metadata": {
        "colab": {
          "base_uri": "https://localhost:8080/"
        },
        "id": "916OYrL1cCpV",
        "outputId": "264a4510-1f35-4710-ac66-caab6170b1cc"
      },
      "execution_count": 23,
      "outputs": [
        {
          "output_type": "stream",
          "name": "stdout",
          "text": [
            "\n",
            "Interpretation Example: If a customer buys ['Donut'], they are likely to also buy ['Coffee'] (Confidence: 0.67, Lift: 0.83).\n"
          ]
        }
      ]
    },
    {
      "cell_type": "code",
      "source": [
        "# One-hot encoding\n",
        "te = TransactionEncoder()\n",
        "te_data = te.fit(dataset).transform(dataset)\n",
        "df = pd.DataFrame(te_data, columns=te.columns_)\n",
        "\n",
        "# Q7: Effect of changing min_support and min_confidence\n",
        "print(\"\\n--- Q7: Effect of changing min_support and min_confidence ---\")\n",
        "frequent_itemsets = apriori(df, min_support=0.4, use_colnames=True)\n",
        "rules1 = association_rules(frequent_itemsets, metric=\"confidence\", min_threshold=0.6)\n",
        "print(\"\\nRules with support=0.4, confidence=0.6:\\n\", rules1[['antecedents','consequents','support','confidence','lift']])\n",
        "\n",
        "frequent_itemsets = apriori(df, min_support=0.2, use_colnames=True)\n",
        "rules2 = association_rules(frequent_itemsets, metric=\"confidence\", min_threshold=0.4)\n",
        "print(\"\\nRules with support=0.2, confidence=0.4:\\n\", rules2[['antecedents','consequents','support','confidence','lift']])"
      ],
      "metadata": {
        "colab": {
          "base_uri": "https://localhost:8080/"
        },
        "id": "s8IQndU7clhW",
        "outputId": "9e18d930-5040-4735-c20b-422293262ea0"
      },
      "execution_count": 22,
      "outputs": [
        {
          "output_type": "stream",
          "name": "stdout",
          "text": [
            "\n",
            "--- Q7: Effect of changing min_support and min_confidence ---\n",
            "\n",
            "Rules with support=0.4, confidence=0.6:\n",
            "   antecedents consequents  support  confidence      lift\n",
            "0     (Donut)    (Coffee)      0.4    0.666667  0.833333\n",
            "1  (Sandwich)    (Coffee)      0.4    1.000000  1.250000\n",
            "\n",
            "Rules with support=0.2, confidence=0.4:\n",
            "            antecedents      consequents  support  confidence      lift\n",
            "0              (Donut)         (Coffee)      0.4    0.666667  0.833333\n",
            "1             (Coffee)          (Donut)      0.4    0.500000  0.833333\n",
            "2             (Muffin)         (Coffee)      0.2    0.500000  0.625000\n",
            "3           (Sandwich)         (Coffee)      0.4    1.000000  1.250000\n",
            "4             (Coffee)       (Sandwich)      0.4    0.500000  1.250000\n",
            "5             (Muffin)          (Donut)      0.2    0.500000  0.833333\n",
            "6           (Sandwich)          (Donut)      0.2    0.500000  0.833333\n",
            "7      (Donut, Coffee)       (Sandwich)      0.2    0.500000  1.250000\n",
            "8    (Sandwich, Donut)         (Coffee)      0.2    1.000000  1.250000\n",
            "9   (Sandwich, Coffee)          (Donut)      0.2    0.500000  0.833333\n",
            "10          (Sandwich)  (Donut, Coffee)      0.2    0.500000  1.250000\n"
          ]
        }
      ]
    },
    {
      "cell_type": "code",
      "source": [
        "# Q8: Show rules and highlight lift > 1\n",
        "print(\"\\n--- Q8: Why Lift > 1 is good ---\")\n",
        "rules_all = association_rules(frequent_itemsets, metric=\"confidence\", min_threshold=0.1)\n",
        "print(rules_all[['antecedents','consequents','support','confidence','lift']])\n",
        "\n",
        "good_rules = rules_all[rules_all['lift'] > 1]\n",
        "print(\"\\nRules with Lift > 1:\\n\", good_rules[['antecedents','consequents','support','confidence','lift']])\n"
      ],
      "metadata": {
        "colab": {
          "base_uri": "https://localhost:8080/"
        },
        "id": "8Gn0i_gWcCyE",
        "outputId": "5e71d192-3a99-4955-c47a-69c089cb043a"
      },
      "execution_count": 21,
      "outputs": [
        {
          "output_type": "stream",
          "name": "stdout",
          "text": [
            "\n",
            "--- Q8: Why Lift > 1 is good ---\n",
            "  antecedents consequents  support  confidence      lift\n",
            "0     (Donut)    (Coffee)      0.4    0.666667  0.833333\n",
            "1    (Coffee)     (Donut)      0.4    0.500000  0.833333\n",
            "2  (Sandwich)    (Coffee)      0.4    1.000000  1.250000\n",
            "3    (Coffee)  (Sandwich)      0.4    0.500000  1.250000\n",
            "\n",
            "Rules with Lift > 1:\n",
            "   antecedents consequents  support  confidence  lift\n",
            "2  (Sandwich)    (Coffee)      0.4         1.0  1.25\n",
            "3    (Coffee)  (Sandwich)      0.4         0.5  1.25\n"
          ]
        }
      ]
    }
  ]
}