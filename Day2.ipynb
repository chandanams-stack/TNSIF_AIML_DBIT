{
  "nbformat": 4,
  "nbformat_minor": 0,
  "metadata": {
    "colab": {
      "provenance": [],
      "include_colab_link": true
    },
    "kernelspec": {
      "name": "python3",
      "display_name": "Python 3"
    },
    "language_info": {
      "name": "python"
    }
  },
  "cells": [
    {
      "cell_type": "markdown",
      "metadata": {
        "id": "view-in-github",
        "colab_type": "text"
      },
      "source": [
        "<a href=\"https://colab.research.google.com/github/chandanams-stack/TNSIF_AIML_DBIT/blob/main/Day2.ipynb\" target=\"_parent\"><img src=\"https://colab.research.google.com/assets/colab-badge.svg\" alt=\"Open In Colab\"/></a>"
      ]
    },
    {
      "cell_type": "code",
      "execution_count": null,
      "metadata": {
        "colab": {
          "base_uri": "https://localhost:8080/"
        },
        "id": "1q2XrQSf_WlV",
        "outputId": "22c68b3e-9e19-4a50-f130-76c40a5f2b78"
      },
      "outputs": [
        {
          "output_type": "stream",
          "name": "stdout",
          "text": [
            "Enter a number: 33\n",
            "Current sum: 33\n",
            "Enter a number: 34\n",
            "Current sum: 67\n",
            "Enter a number: 300\n",
            "Sum exceeded 300! Stopping...\n"
          ]
        }
      ],
      "source": [
        "total = 0\n",
        "\n",
        "while True:\n",
        "    num = int(input(\"Enter a number: \"))\n",
        "    total += num\n",
        "\n",
        "    if total > 300:\n",
        "        print(\"Sum exceeded 300! Stopping...\")\n",
        "        break\n",
        "\n",
        "    print(f\"Current sum: {total}\")"
      ]
    },
    {
      "cell_type": "code",
      "source": [
        "n=input('enter name')\n",
        "for i in n:\n",
        "    if i=='a' or i=='e' or i=='i' or i=='o' or i=='u':\n",
        "        continue\n",
        "    else:\n",
        "        print(i)"
      ],
      "metadata": {
        "colab": {
          "base_uri": "https://localhost:8080/"
        },
        "id": "tOnvlpPLAkrw",
        "outputId": "56330c1d-4a30-4667-c03a-d5865b13e008"
      },
      "execution_count": null,
      "outputs": [
        {
          "output_type": "stream",
          "name": "stdout",
          "text": [
            "enter nameuma\n",
            "m\n"
          ]
        }
      ]
    },
    {
      "cell_type": "code",
      "source": [
        "while True:\n",
        "    user_input = input(\"Enter a string: \")\n",
        "    if user_input == \"Bon\":\n",
        "        print(\"Voyage\")\n",
        "        break"
      ],
      "metadata": {
        "colab": {
          "base_uri": "https://localhost:8080/"
        },
        "id": "J20cEZckAkuA",
        "outputId": "7e87062e-cb04-45dc-8f66-bb930ac583aa"
      },
      "execution_count": null,
      "outputs": [
        {
          "output_type": "stream",
          "name": "stdout",
          "text": [
            "Enter a string: hello\n",
            "Enter a string: good\n",
            "Enter a string: bon\n",
            "Enter a string: Bon\n",
            "Voyage\n"
          ]
        }
      ]
    },
    {
      "cell_type": "code",
      "source": [
        "address = input(\"Enter your door number and street: \")\n",
        "numbers = ''.join([char for char in address if char.isdigit()])\n",
        "if numbers:\n",
        "    print(\"Numbers present in the string:\", numbers)\n",
        "else:\n",
        "    print(\"No numbers found in the input.\")\n"
      ],
      "metadata": {
        "colab": {
          "base_uri": "https://localhost:8080/"
        },
        "id": "cDTus4CzAkxk",
        "outputId": "f3e40901-8f49-4661-eb34-d14a426040ed"
      },
      "execution_count": null,
      "outputs": [
        {
          "output_type": "stream",
          "name": "stdout",
          "text": [
            "Enter your door number and street: #256\n",
            "Numbers present in the string: 256\n"
          ]
        }
      ]
    },
    {
      "cell_type": "code",
      "source": [
        "address = input(\"Enter your door number and street: \")\n",
        "numbers = \"\"\n",
        "for ch in address:\n",
        "    if ch >= '0' and ch <= '9':\n",
        "        numbers = numbers + ch\n",
        "if numbers != \"\":\n",
        "    print(\"Numbers present in the string:\", numbers)\n",
        "else:\n",
        "    print(\"No numbers found in the input.\")"
      ],
      "metadata": {
        "colab": {
          "base_uri": "https://localhost:8080/"
        },
        "id": "0XptWbISAv0s",
        "outputId": "6dfde8f4-d96f-4ce3-a326-45544f923ca4"
      },
      "execution_count": null,
      "outputs": [
        {
          "output_type": "stream",
          "name": "stdout",
          "text": [
            "Enter your door number and street: #269v\n",
            "Numbers present in the string: 269\n"
          ]
        }
      ]
    },
    {
      "cell_type": "code",
      "source": [
        "user_list = []\n",
        "print(\"Enter 5 elements for the list:\")\n",
        "for i in range(5):\n",
        "    element = input(f\"Element {i+1}: \")\n",
        "    user_list.append(element)\n",
        "name = input(\"Enter your name: \")\n",
        "user_list[2] = name\n",
        "user_list[4] = name\n",
        "print(\"Updated List:\", user_list)"
      ],
      "metadata": {
        "colab": {
          "base_uri": "https://localhost:8080/"
        },
        "id": "ELcd4TGIBv5f",
        "outputId": "725b605b-17f3-4360-8765-72801e4eca0a"
      },
      "execution_count": null,
      "outputs": [
        {
          "output_type": "stream",
          "name": "stdout",
          "text": [
            "Enter 5 elements for the list:\n",
            "Element 1: 2\n",
            "Element 2: 4\n",
            "Element 3: 6\n",
            "Element 4: 8\n",
            "Element 5: 10\n",
            "Enter your name: uma\n",
            "Updated List: ['2', '4', 'uma', '8', 'uma']\n"
          ]
        }
      ]
    },
    {
      "cell_type": "code",
      "source": [
        "user_list = input(\"Enter elements of the list separated by space: \").split()\n",
        "index = int(input(\"Enter the index where you want to insert: \"))\n",
        "element = input(\"Enter the element to insert: \")\n",
        "if 0 <= index < len(user_list):\n",
        "    user_list.insert(index, element)\n",
        "    print(\"Element inserted at index\", index)\n",
        "else:\n",
        "    print(\"Invalid index! The element will be appended at the end.\")\n",
        "    user_list.append(element)\n",
        "print(\"Updated List:\", user_list)\n"
      ],
      "metadata": {
        "colab": {
          "base_uri": "https://localhost:8080/"
        },
        "id": "5aaL10nNCDwx",
        "outputId": "0e0dbc33-92ca-447c-f662-9d6da2d72dc6"
      },
      "execution_count": null,
      "outputs": [
        {
          "output_type": "stream",
          "name": "stdout",
          "text": [
            "Enter elements of the list separated by space: air\n",
            "Enter the index where you want to insert: 2\n",
            "Enter the element to insert: oxygen\n",
            "Invalid index! The element will be appended at the end.\n",
            "Updated List: ['air', 'oxygen']\n"
          ]
        }
      ]
    }
  ]
}