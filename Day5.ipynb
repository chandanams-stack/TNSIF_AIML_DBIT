{
  "nbformat": 4,
  "nbformat_minor": 0,
  "metadata": {
    "colab": {
      "provenance": [],
      "include_colab_link": true
    },
    "kernelspec": {
      "name": "python3",
      "display_name": "Python 3"
    },
    "language_info": {
      "name": "python"
    }
  },
  "cells": [
    {
      "cell_type": "markdown",
      "metadata": {
        "id": "view-in-github",
        "colab_type": "text"
      },
      "source": [
        "<a href=\"https://colab.research.google.com/github/chandanams-stack/TNSIF_AIML_DBIT/blob/main/Day5.ipynb\" target=\"_parent\"><img src=\"https://colab.research.google.com/assets/colab-badge.svg\" alt=\"Open In Colab\"/></a>"
      ]
    },
    {
      "cell_type": "code",
      "execution_count": null,
      "metadata": {
        "colab": {
          "base_uri": "https://localhost:8080/"
        },
        "id": "Qj99Y9AoFTfV",
        "outputId": "2d626443-94ad-4aab-d8ff-4c5e7e9714a5"
      },
      "outputs": [
        {
          "output_type": "stream",
          "name": "stdout",
          "text": [
            "('ram', 1, 1997)\n"
          ]
        }
      ],
      "source": [
        "tup1=('ram',1,1997)\n",
        "print(tup1)"
      ]
    },
    {
      "cell_type": "code",
      "source": [
        "tup=(3,)\n",
        "print(tup)"
      ],
      "metadata": {
        "colab": {
          "base_uri": "https://localhost:8080/"
        },
        "id": "xvR8vfAFFVIO",
        "outputId": "5c8a0ed4-d1c5-43a6-86cb-f972ee30908c"
      },
      "execution_count": null,
      "outputs": [
        {
          "output_type": "stream",
          "name": "stdout",
          "text": [
            "(3,)\n"
          ]
        }
      ]
    },
    {
      "cell_type": "code",
      "source": [
        "tup=(3)\n",
        "print(tup)"
      ],
      "metadata": {
        "colab": {
          "base_uri": "https://localhost:8080/"
        },
        "id": "Yo5vpVpBFVL0",
        "outputId": "001fbc3b-8d3e-4c35-bebc-a6c383318518"
      },
      "execution_count": null,
      "outputs": [
        {
          "output_type": "stream",
          "name": "stdout",
          "text": [
            "3\n"
          ]
        }
      ]
    },
    {
      "cell_type": "code",
      "source": [
        "tup=(3)\n",
        "print(type(tup))"
      ],
      "metadata": {
        "colab": {
          "base_uri": "https://localhost:8080/"
        },
        "id": "g5pO2hE8FVPM",
        "outputId": "87923e74-837d-4385-8ba5-d44e13b612d1"
      },
      "execution_count": null,
      "outputs": [
        {
          "output_type": "stream",
          "name": "stdout",
          "text": [
            "<class 'int'>\n"
          ]
        }
      ]
    },
    {
      "cell_type": "code",
      "source": [
        "tup=(3,)\n",
        "print(type(tup))"
      ],
      "metadata": {
        "colab": {
          "base_uri": "https://localhost:8080/"
        },
        "id": "a9YnusIZFVSq",
        "outputId": "348a175c-3ea8-45ea-fa93-fe8c8ef64ae6"
      },
      "execution_count": null,
      "outputs": [
        {
          "output_type": "stream",
          "name": "stdout",
          "text": [
            "<class 'tuple'>\n"
          ]
        }
      ]
    },
    {
      "cell_type": "code",
      "source": [
        "tup=()\n",
        "print(tup)#tuple cant be have only comma"
      ],
      "metadata": {
        "colab": {
          "base_uri": "https://localhost:8080/"
        },
        "id": "0Lb6Y9knFVVq",
        "outputId": "d08c2616-fb0b-489c-9a11-66c41aa27b7b"
      },
      "execution_count": null,
      "outputs": [
        {
          "output_type": "stream",
          "name": "stdout",
          "text": [
            "()\n"
          ]
        }
      ]
    },
    {
      "cell_type": "code",
      "source": [
        "#tuple will take list into an argument\n",
        "tup=tuple([1,2,3])\n",
        "print(tup)"
      ],
      "metadata": {
        "colab": {
          "base_uri": "https://localhost:8080/"
        },
        "id": "sJfGPpKzFVYs",
        "outputId": "068bd974-55ce-4a5d-fe4f-3fc1552b9050"
      },
      "execution_count": null,
      "outputs": [
        {
          "output_type": "stream",
          "name": "stdout",
          "text": [
            "(1, 2, 3)\n"
          ]
        }
      ]
    },
    {
      "cell_type": "code",
      "source": [
        "#tuple insertion by using add,sub ....\n",
        "t=(1,2,3,4)\n",
        "t=t+(5,6,7,8)\n",
        "print(t)"
      ],
      "metadata": {
        "colab": {
          "base_uri": "https://localhost:8080/"
        },
        "id": "X7g4J1zyFVba",
        "outputId": "425f74ae-b821-4fbb-f438-fa180ec2e04e"
      },
      "execution_count": null,
      "outputs": [
        {
          "output_type": "stream",
          "name": "stdout",
          "text": [
            "(1, 2, 3, 4, 5, 6, 7, 8)\n"
          ]
        }
      ]
    },
    {
      "cell_type": "code",
      "source": [
        "t=(1,2,3,4)\n",
        "print(t)"
      ],
      "metadata": {
        "colab": {
          "base_uri": "https://localhost:8080/"
        },
        "id": "NeF5GEW6FVfA",
        "outputId": "70829e9e-ac31-496e-c774-62ab8039968b"
      },
      "execution_count": null,
      "outputs": [
        {
          "output_type": "stream",
          "name": "stdout",
          "text": [
            "(1, 2, 3, 4)\n"
          ]
        }
      ]
    },
    {
      "cell_type": "code",
      "source": [
        "t=(1,2,3,4)\n",
        "t=t+(5,6,7,8,)\n",
        "print(t)\n"
      ],
      "metadata": {
        "colab": {
          "base_uri": "https://localhost:8080/"
        },
        "id": "ejbT0z1aF2NH",
        "outputId": "a02b2eed-672f-4c4f-b043-29707b32e17e"
      },
      "execution_count": null,
      "outputs": [
        {
          "output_type": "stream",
          "name": "stdout",
          "text": [
            "(1, 2, 3, 4, 5, 6, 7, 8)\n"
          ]
        }
      ]
    },
    {
      "cell_type": "code",
      "source": [
        "t=(1,2,3,4)\n",
        "t=(5,6,7,8)\n",
        "print(t)\n"
      ],
      "metadata": {
        "colab": {
          "base_uri": "https://localhost:8080/"
        },
        "id": "gXhjQSTwF2Qf",
        "outputId": "2894d021-3441-4688-860d-b385221aab0c"
      },
      "execution_count": null,
      "outputs": [
        {
          "output_type": "stream",
          "name": "stdout",
          "text": [
            "(5, 6, 7, 8)\n"
          ]
        }
      ]
    },
    {
      "cell_type": "code",
      "source": [
        "t=(1,2,3,4)\n",
        "t=t+(5,6,7,8)\n",
        "t+(10,)#doesnt add anything\n",
        "print(t)"
      ],
      "metadata": {
        "colab": {
          "base_uri": "https://localhost:8080/"
        },
        "id": "1waJLnMaF6yo",
        "outputId": "b78b5725-24f1-4dcc-9e23-fc7216189205"
      },
      "execution_count": null,
      "outputs": [
        {
          "output_type": "stream",
          "name": "stdout",
          "text": [
            "(1, 2, 3, 4, 5, 6, 7, 8)\n"
          ]
        }
      ]
    },
    {
      "cell_type": "code",
      "source": [
        "n = int(input(\"Enter the number of employees: \"))\n",
        "salaries = []\n",
        "for i in range(n):\n",
        "    salary = float(input(f\"Enter salary of employee {i+1}: \"))\n",
        "    salaries.append(salary)\n",
        "min_salary = min(salaries)\n",
        "max_salary = max(salaries)\n",
        "print(f\"\\nMinimum Salary: {min_salary}\")\n",
        "print(f\"Maximum Salary: {max_salary}\")\n"
      ],
      "metadata": {
        "colab": {
          "base_uri": "https://localhost:8080/"
        },
        "id": "T5RlfugGF9Im",
        "outputId": "bca25b81-d51f-4415-b30e-a0f47500b943"
      },
      "execution_count": null,
      "outputs": [
        {
          "output_type": "stream",
          "name": "stdout",
          "text": [
            "Enter the number of employees: 5\n",
            "Enter salary of employee 1: 10000\n",
            "Enter salary of employee 2: 80000\n",
            "Enter salary of employee 3: 50000\n",
            "Enter salary of employee 4: 100000\n",
            "Enter salary of employee 5: 20000\n",
            "\n",
            "Minimum Salary: 10000.0\n",
            "Maximum Salary: 100000.0\n"
          ]
        }
      ]
    },
    {
      "cell_type": "code",
      "source": [
        "t=tuple()\n",
        "t=t+('PYTHON',)\n",
        "print(t)\n",
        "print(len(t))\n",
        "t1=(10,20,30)\n",
        "t2=t1+t\n",
        "print(len(t2))\n",
        "t3=t1*2\n",
        "print(t3)"
      ],
      "metadata": {
        "colab": {
          "base_uri": "https://localhost:8080/"
        },
        "id": "Op1q6wjjGAU2",
        "outputId": "66c35ec6-8545-4609-d218-c08daa12e4c5"
      },
      "execution_count": null,
      "outputs": [
        {
          "output_type": "stream",
          "name": "stdout",
          "text": [
            "('PYTHON',)\n",
            "1\n",
            "4\n",
            "(10, 20, 30, 10, 20, 30)\n"
          ]
        }
      ]
    },
    {
      "cell_type": "code",
      "source": [
        "employees = {}\n",
        "n = int(input(\"Enter the number of employees: \"))\n",
        "for i in range(n):\n",
        "    name = input(f\"Enter name of employee {i+1}: \")\n",
        "    number = input(f\"Enter employee number of {name}: \")\n",
        "    employees[name] = number\n",
        "print(\"\\nEmployee Details:\")\n",
        "for name, number in employees.items():\n",
        "    print(f\"Name: {name}, Number: {number}\")"
      ],
      "metadata": {
        "colab": {
          "base_uri": "https://localhost:8080/"
        },
        "id": "6EvlXulDGCJv",
        "outputId": "05eeeea5-bccd-4002-a54f-9d5689f03b16"
      },
      "execution_count": null,
      "outputs": [
        {
          "output_type": "stream",
          "name": "stdout",
          "text": [
            "Enter the number of employees: 2\n",
            "Enter name of employee 1: uma\n",
            "Enter employee number of uma: v18\n",
            "Enter name of employee 2: bharath\n",
            "Enter employee number of bharath: v269\n",
            "\n",
            "Employee Details:\n",
            "Name: uma, Number: v18\n",
            "Name: bharath, Number: v269\n"
          ]
        }
      ]
    }
  ]
}