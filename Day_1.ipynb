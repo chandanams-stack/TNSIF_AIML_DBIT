{
  "nbformat": 4,
  "nbformat_minor": 0,
  "metadata": {
    "colab": {
      "provenance": [],
      "include_colab_link": true
    },
    "kernelspec": {
      "name": "python3",
      "display_name": "Python 3"
    },
    "language_info": {
      "name": "python"
    }
  },
  "cells": [
    {
      "cell_type": "markdown",
      "metadata": {
        "id": "view-in-github",
        "colab_type": "text"
      },
      "source": [
        "<a href=\"https://colab.research.google.com/github/chandanams-stack/TNSIF_AIML_DBIT/blob/main/Day_1.ipynb\" target=\"_parent\"><img src=\"https://colab.research.google.com/assets/colab-badge.svg\" alt=\"Open In Colab\"/></a>"
      ]
    },
    {
      "cell_type": "code",
      "execution_count": null,
      "metadata": {
        "colab": {
          "base_uri": "https://localhost:8080/"
        },
        "id": "vcb8orQB-90e",
        "outputId": "4763eb30-e00a-49f7-b5f6-dc98e24dd15d"
      },
      "outputs": [
        {
          "output_type": "stream",
          "name": "stdout",
          "text": [
            "Enter your PIN: 12345\n",
            "Incorrect PIN. Attempts left: 2\n",
            "Enter your PIN: 1234\n",
            "Access granted.\n",
            "\n",
            "\n",
            "--- ATM Menu ---\n",
            "1. Check Balance\n",
            "2. Deposit\n",
            "3. Withdraw\n",
            "4. Exit\n",
            "Choose an option (1-4): 1\n",
            "Your current balance is ₹10000\n",
            "\n",
            "--- ATM Menu ---\n",
            "1. Check Balance\n",
            "2. Deposit\n",
            "3. Withdraw\n",
            "4. Exit\n",
            "Choose an option (1-4): 3\n",
            "Enter amount to withdraw: ₹9000\n",
            "Withdrew ₹9000.0. New balance: ₹1000.0\n",
            "\n",
            "--- ATM Menu ---\n",
            "1. Check Balance\n",
            "2. Deposit\n",
            "3. Withdraw\n",
            "4. Exit\n",
            "Choose an option (1-4): 4\n",
            "Thank you for using the ATM.\n"
          ]
        }
      ],
      "source": [
        "correct_pin = \"1234\"\n",
        "balance = 10000\n",
        "attempts = 0\n",
        "max_attempts = 3\n",
        "\n",
        "while attempts < max_attempts:\n",
        "    entered_pin = input(\"Enter your PIN: \")\n",
        "    if entered_pin == correct_pin:\n",
        "        print(\"Access granted.\\n\")\n",
        "        break\n",
        "    else:\n",
        "        attempts += 1\n",
        "        print(f\"Incorrect PIN. Attempts left: {max_attempts - attempts}\")\n",
        "\n",
        "if attempts == max_attempts:\n",
        "    print(\"Card blocked. Too many incorrect attempts.\")\n",
        "else:\n",
        "    while True:\n",
        "        print(\"\\n--- ATM Menu ---\")\n",
        "        print(\"1. Check Balance\")\n",
        "        print(\"2. Deposit\")\n",
        "        print(\"3. Withdraw\")\n",
        "        print(\"4. Exit\")\n",
        "\n",
        "        choice = input(\"Choose an option (1-4): \")\n",
        "\n",
        "        if choice == \"1\":\n",
        "            print(f\"Your current balance is ₹{balance}\")\n",
        "        elif choice == \"2\":\n",
        "            amount = float(input(\"Enter amount to deposit: ₹\"))\n",
        "            if amount > 0:\n",
        "                balance += amount\n",
        "                print(f\"Deposited ₹{amount}. New balance: ₹{balance}\")\n",
        "            else:\n",
        "                print(\"Invalid amount.\")\n",
        "        elif choice == \"3\":\n",
        "            amount = float(input(\"Enter amount to withdraw: ₹\"))\n",
        "            if 0 < amount <= balance:\n",
        "                balance -= amount\n",
        "                print(f\"Withdrew ₹{amount}. New balance: ₹{balance}\")\n",
        "            else:\n",
        "                print(\"Invalid or insufficient amount.\")\n",
        "        elif choice == \"4\":\n",
        "            print(\"Thank you for using the ATM.\")\n",
        "            break\n",
        "        else:\n",
        "            print(\"Invalid option. Please try again.\")\n"
      ]
    }
  ]
}