{
  "cells": [
    {
      "cell_type": "code",
      "execution_count": 3,
      "metadata": {
        "colab": {
          "base_uri": "https://localhost:8080/",
          "height": 73
        },
        "id": "QNEGQra5rHiS",
        "outputId": "9a9c1e98-f414-4134-d255-c71904123d99"
      },
      "outputs": [
        {
          "output_type": "display_data",
          "data": {
            "text/plain": [
              "<IPython.core.display.HTML object>"
            ],
            "text/html": [
              "\n",
              "     <input type=\"file\" id=\"files-7506576f-f148-446b-b7c2-e7e174092697\" name=\"files[]\" multiple disabled\n",
              "        style=\"border:none\" />\n",
              "     <output id=\"result-7506576f-f148-446b-b7c2-e7e174092697\">\n",
              "      Upload widget is only available when the cell has been executed in the\n",
              "      current browser session. Please rerun this cell to enable.\n",
              "      </output>\n",
              "      <script>// Copyright 2017 Google LLC\n",
              "//\n",
              "// Licensed under the Apache License, Version 2.0 (the \"License\");\n",
              "// you may not use this file except in compliance with the License.\n",
              "// You may obtain a copy of the License at\n",
              "//\n",
              "//      http://www.apache.org/licenses/LICENSE-2.0\n",
              "//\n",
              "// Unless required by applicable law or agreed to in writing, software\n",
              "// distributed under the License is distributed on an \"AS IS\" BASIS,\n",
              "// WITHOUT WARRANTIES OR CONDITIONS OF ANY KIND, either express or implied.\n",
              "// See the License for the specific language governing permissions and\n",
              "// limitations under the License.\n",
              "\n",
              "/**\n",
              " * @fileoverview Helpers for google.colab Python module.\n",
              " */\n",
              "(function(scope) {\n",
              "function span(text, styleAttributes = {}) {\n",
              "  const element = document.createElement('span');\n",
              "  element.textContent = text;\n",
              "  for (const key of Object.keys(styleAttributes)) {\n",
              "    element.style[key] = styleAttributes[key];\n",
              "  }\n",
              "  return element;\n",
              "}\n",
              "\n",
              "// Max number of bytes which will be uploaded at a time.\n",
              "const MAX_PAYLOAD_SIZE = 100 * 1024;\n",
              "\n",
              "function _uploadFiles(inputId, outputId) {\n",
              "  const steps = uploadFilesStep(inputId, outputId);\n",
              "  const outputElement = document.getElementById(outputId);\n",
              "  // Cache steps on the outputElement to make it available for the next call\n",
              "  // to uploadFilesContinue from Python.\n",
              "  outputElement.steps = steps;\n",
              "\n",
              "  return _uploadFilesContinue(outputId);\n",
              "}\n",
              "\n",
              "// This is roughly an async generator (not supported in the browser yet),\n",
              "// where there are multiple asynchronous steps and the Python side is going\n",
              "// to poll for completion of each step.\n",
              "// This uses a Promise to block the python side on completion of each step,\n",
              "// then passes the result of the previous step as the input to the next step.\n",
              "function _uploadFilesContinue(outputId) {\n",
              "  const outputElement = document.getElementById(outputId);\n",
              "  const steps = outputElement.steps;\n",
              "\n",
              "  const next = steps.next(outputElement.lastPromiseValue);\n",
              "  return Promise.resolve(next.value.promise).then((value) => {\n",
              "    // Cache the last promise value to make it available to the next\n",
              "    // step of the generator.\n",
              "    outputElement.lastPromiseValue = value;\n",
              "    return next.value.response;\n",
              "  });\n",
              "}\n",
              "\n",
              "/**\n",
              " * Generator function which is called between each async step of the upload\n",
              " * process.\n",
              " * @param {string} inputId Element ID of the input file picker element.\n",
              " * @param {string} outputId Element ID of the output display.\n",
              " * @return {!Iterable<!Object>} Iterable of next steps.\n",
              " */\n",
              "function* uploadFilesStep(inputId, outputId) {\n",
              "  const inputElement = document.getElementById(inputId);\n",
              "  inputElement.disabled = false;\n",
              "\n",
              "  const outputElement = document.getElementById(outputId);\n",
              "  outputElement.innerHTML = '';\n",
              "\n",
              "  const pickedPromise = new Promise((resolve) => {\n",
              "    inputElement.addEventListener('change', (e) => {\n",
              "      resolve(e.target.files);\n",
              "    });\n",
              "  });\n",
              "\n",
              "  const cancel = document.createElement('button');\n",
              "  inputElement.parentElement.appendChild(cancel);\n",
              "  cancel.textContent = 'Cancel upload';\n",
              "  const cancelPromise = new Promise((resolve) => {\n",
              "    cancel.onclick = () => {\n",
              "      resolve(null);\n",
              "    };\n",
              "  });\n",
              "\n",
              "  // Wait for the user to pick the files.\n",
              "  const files = yield {\n",
              "    promise: Promise.race([pickedPromise, cancelPromise]),\n",
              "    response: {\n",
              "      action: 'starting',\n",
              "    }\n",
              "  };\n",
              "\n",
              "  cancel.remove();\n",
              "\n",
              "  // Disable the input element since further picks are not allowed.\n",
              "  inputElement.disabled = true;\n",
              "\n",
              "  if (!files) {\n",
              "    return {\n",
              "      response: {\n",
              "        action: 'complete',\n",
              "      }\n",
              "    };\n",
              "  }\n",
              "\n",
              "  for (const file of files) {\n",
              "    const li = document.createElement('li');\n",
              "    li.append(span(file.name, {fontWeight: 'bold'}));\n",
              "    li.append(span(\n",
              "        `(${file.type || 'n/a'}) - ${file.size} bytes, ` +\n",
              "        `last modified: ${\n",
              "            file.lastModifiedDate ? file.lastModifiedDate.toLocaleDateString() :\n",
              "                                    'n/a'} - `));\n",
              "    const percent = span('0% done');\n",
              "    li.appendChild(percent);\n",
              "\n",
              "    outputElement.appendChild(li);\n",
              "\n",
              "    const fileDataPromise = new Promise((resolve) => {\n",
              "      const reader = new FileReader();\n",
              "      reader.onload = (e) => {\n",
              "        resolve(e.target.result);\n",
              "      };\n",
              "      reader.readAsArrayBuffer(file);\n",
              "    });\n",
              "    // Wait for the data to be ready.\n",
              "    let fileData = yield {\n",
              "      promise: fileDataPromise,\n",
              "      response: {\n",
              "        action: 'continue',\n",
              "      }\n",
              "    };\n",
              "\n",
              "    // Use a chunked sending to avoid message size limits. See b/62115660.\n",
              "    let position = 0;\n",
              "    do {\n",
              "      const length = Math.min(fileData.byteLength - position, MAX_PAYLOAD_SIZE);\n",
              "      const chunk = new Uint8Array(fileData, position, length);\n",
              "      position += length;\n",
              "\n",
              "      const base64 = btoa(String.fromCharCode.apply(null, chunk));\n",
              "      yield {\n",
              "        response: {\n",
              "          action: 'append',\n",
              "          file: file.name,\n",
              "          data: base64,\n",
              "        },\n",
              "      };\n",
              "\n",
              "      let percentDone = fileData.byteLength === 0 ?\n",
              "          100 :\n",
              "          Math.round((position / fileData.byteLength) * 100);\n",
              "      percent.textContent = `${percentDone}% done`;\n",
              "\n",
              "    } while (position < fileData.byteLength);\n",
              "  }\n",
              "\n",
              "  // All done.\n",
              "  yield {\n",
              "    response: {\n",
              "      action: 'complete',\n",
              "    }\n",
              "  };\n",
              "}\n",
              "\n",
              "scope.google = scope.google || {};\n",
              "scope.google.colab = scope.google.colab || {};\n",
              "scope.google.colab._files = {\n",
              "  _uploadFiles,\n",
              "  _uploadFilesContinue,\n",
              "};\n",
              "})(self);\n",
              "</script> "
            ]
          },
          "metadata": {}
        },
        {
          "output_type": "stream",
          "name": "stdout",
          "text": [
            "Saving employee_attrition.csv to employee_attrition.csv\n"
          ]
        }
      ],
      "source": [
        "from google.colab import files\n",
        "uploaded = files.upload()\n",
        "\n",
        "import pandas as pd\n",
        "import numpy as np\n",
        "import matplotlib.pyplot as plt\n",
        "import seaborn as sns\n",
        "\n",
        "from sklearn.model_selection import train_test_split\n",
        "from sklearn.ensemble import RandomForestClassifier\n",
        "from sklearn.metrics import accuracy_score, confusion_matrix, classification_report\n"
      ]
    },
    {
      "cell_type": "code",
      "execution_count": 4,
      "metadata": {
        "colab": {
          "base_uri": "https://localhost:8080/"
        },
        "id": "hVws_Lnhrejc",
        "outputId": "bcb8c37e-d0fb-4d4f-aeff-31e5dfdd2828"
      },
      "outputs": [
        {
          "output_type": "stream",
          "name": "stdout",
          "text": [
            "First 5 rows:\n",
            "    Age Department  Years_At_Company  Salary Overtime  JobSatisfaction  \\\n",
            "0   29      Sales                12      38       No                3   \n",
            "1   23    Finance                12      98       No                1   \n",
            "2   39       Tech                19      46       No                1   \n",
            "3   37    Finance                14      46       No                5   \n",
            "4   36       Tech                16      90       No                4   \n",
            "\n",
            "  Attrition  \n",
            "0        No  \n",
            "1       Yes  \n",
            "2        No  \n",
            "3       Yes  \n",
            "4       Yes  \n",
            "\n",
            "Dataset Info:\n",
            "\n",
            "<class 'pandas.core.frame.DataFrame'>\n",
            "RangeIndex: 50 entries, 0 to 49\n",
            "Data columns (total 7 columns):\n",
            " #   Column            Non-Null Count  Dtype \n",
            "---  ------            --------------  ----- \n",
            " 0   Age               50 non-null     int64 \n",
            " 1   Department        50 non-null     object\n",
            " 2   Years_At_Company  50 non-null     int64 \n",
            " 3   Salary            50 non-null     int64 \n",
            " 4   Overtime          50 non-null     object\n",
            " 5   JobSatisfaction   50 non-null     int64 \n",
            " 6   Attrition         50 non-null     object\n",
            "dtypes: int64(4), object(3)\n",
            "memory usage: 2.9+ KB\n",
            "None\n",
            "\n",
            "Description:\n",
            "              Age Department  Years_At_Company      Salary Overtime  \\\n",
            "count   50.00000         50          50.00000   50.000000       50   \n",
            "unique       NaN          4               NaN         NaN        2   \n",
            "top          NaN         HR               NaN         NaN      Yes   \n",
            "freq         NaN         16               NaN         NaN       26   \n",
            "mean    35.22000        NaN          10.20000   65.340000      NaN   \n",
            "std      8.78842        NaN           6.38557   22.293598      NaN   \n",
            "min     22.00000        NaN           0.00000   30.000000      NaN   \n",
            "25%     27.25000        NaN           5.00000   46.000000      NaN   \n",
            "50%     35.50000        NaN          10.00000   60.500000      NaN   \n",
            "75%     42.25000        NaN          16.00000   86.750000      NaN   \n",
            "max     54.00000        NaN          20.00000  100.000000      NaN   \n",
            "\n",
            "        JobSatisfaction Attrition  \n",
            "count         50.000000        50  \n",
            "unique              NaN         2  \n",
            "top                 NaN       Yes  \n",
            "freq                NaN        26  \n",
            "mean           3.080000       NaN  \n",
            "std            1.626816       NaN  \n",
            "min            1.000000       NaN  \n",
            "25%            1.250000       NaN  \n",
            "50%            3.000000       NaN  \n",
            "75%            5.000000       NaN  \n",
            "max            5.000000       NaN  \n",
            "\n",
            "Missing values:\n",
            " Age                 0\n",
            "Department          0\n",
            "Years_At_Company    0\n",
            "Salary              0\n",
            "Overtime            0\n",
            "JobSatisfaction     0\n",
            "Attrition           0\n",
            "dtype: int64\n"
          ]
        }
      ],
      "source": [
        "# Step 1: Data Understanding\n",
        "df = pd.read_csv(\"employee_attrition.csv\")\n",
        "\n",
        "print(\"First 5 rows:\\n\", df.head())\n",
        "print(\"\\nDataset Info:\\n\")\n",
        "print(df.info())\n",
        "print(\"\\nDescription:\\n\", df.describe(include=\"all\"))\n",
        "\n",
        "# Check missing values\n",
        "print(\"\\nMissing values:\\n\", df.isnull().sum())"
      ]
    },
    {
      "cell_type": "code",
      "execution_count": 5,
      "metadata": {
        "id": "XS3frQFeremc"
      },
      "outputs": [],
      "source": [
        "# Step 2: Data Preprocessing\n",
        "# Encode categorical variables\n",
        "df_encoded = df.copy()\n",
        "df_encoded[\"Department\"] = df_encoded[\"Department\"].astype(\"category\").cat.codes\n",
        "df_encoded[\"Overtime\"] = df_encoded[\"Overtime\"].map({\"Yes\": 1, \"No\": 0})\n",
        "\n",
        "# Features and Target\n",
        "X = df_encoded.drop(\"Attrition\", axis=1)   # Assuming 'Attrition' is the target column\n",
        "y = df_encoded[\"Attrition\"].map({\"Yes\": 1, \"No\": 0})  # Convert target to numeric\n",
        "\n",
        "# Train-test split (70-30)\n",
        "X_train, X_test, y_train, y_test = train_test_split(\n",
        "    X, y, test_size=0.3, random_state=42, stratify=y\n",
        ")"
      ]
    },
    {
      "cell_type": "code",
      "execution_count": 6,
      "metadata": {
        "colab": {
          "base_uri": "https://localhost:8080/"
        },
        "id": "j4uGQrpQrepv",
        "outputId": "f0e56f8c-1072-4828-b966-5328d93e97f5"
      },
      "outputs": [
        {
          "output_type": "stream",
          "name": "stdout",
          "text": [
            "\n",
            " Model trained successfully\n",
            "Number of Trees: 100\n",
            "Number of Features: 6\n"
          ]
        }
      ],
      "source": [
        "# Step 3: Model Building\n",
        "clf = RandomForestClassifier(n_estimators=100, random_state=42)\n",
        "clf.fit(X_train, y_train)\n",
        "\n",
        "print(\"\\n Model trained successfully\")\n",
        "print(\"Number of Trees:\", len(clf.estimators_))\n",
        "print(\"Number of Features:\", clf.n_features_in_)"
      ]
    },
    {
      "cell_type": "code",
      "execution_count": 7,
      "metadata": {
        "colab": {
          "base_uri": "https://localhost:8080/"
        },
        "id": "MxB8k9u-reuJ",
        "outputId": "c24325a5-0e8e-4fcf-c627-6041c0b60862"
      },
      "outputs": [
        {
          "output_type": "stream",
          "name": "stdout",
          "text": [
            "\n",
            " Model trained successfully\n",
            "Number of Trees: 100\n",
            "Number of Features: 6\n",
            "\n",
            " Accuracy: 0.4666666666666667\n",
            "\n",
            "Confusion Matrix:\n",
            " [[5 2]\n",
            " [6 2]]\n",
            "\n",
            "Classification Report:\n",
            "               precision    recall  f1-score   support\n",
            "\n",
            "           0       0.45      0.71      0.56         7\n",
            "           1       0.50      0.25      0.33         8\n",
            "\n",
            "    accuracy                           0.47        15\n",
            "   macro avg       0.48      0.48      0.44        15\n",
            "weighted avg       0.48      0.47      0.44        15\n",
            "\n"
          ]
        }
      ],
      "source": [
        "# Step 3: Model Building\n",
        "clf = RandomForestClassifier(n_estimators=100, random_state=42)\n",
        "clf.fit(X_train, y_train)\n",
        "\n",
        "print(\"\\n Model trained successfully\")\n",
        "print(\"Number of Trees:\", len(clf.estimators_))\n",
        "print(\"Number of Features:\", clf.n_features_in_)\n",
        "\n",
        "# Step 4: Model Evaluation\n",
        "y_pred = clf.predict(X_test)\n",
        "\n",
        "print(\"\\n Accuracy:\", accuracy_score(y_test, y_pred))\n",
        "print(\"\\nConfusion Matrix:\\n\", confusion_matrix(y_test, y_pred))\n",
        "print(\"\\nClassification Report:\\n\", classification_report(y_test, y_pred))"
      ]
    },
    {
      "cell_type": "code",
      "execution_count": 8,
      "metadata": {
        "colab": {
          "base_uri": "https://localhost:8080/"
        },
        "id": "RFz7DBJXrexg",
        "outputId": "b71ba78d-59d5-4cd9-84f2-ead0f9322a0b"
      },
      "outputs": [
        {
          "output_type": "stream",
          "name": "stdout",
          "text": [
            "\n",
            " Tuned Model Accuracy: 0.4666666666666667\n"
          ]
        }
      ],
      "source": [
        "# Step 5: Model Tuning (example with different parameters)\n",
        "clf_tuned = RandomForestClassifier(\n",
        "    n_estimators=200, max_depth=10, criterion=\"entropy\", random_state=42\n",
        ")\n",
        "clf_tuned.fit(X_train, y_train)\n",
        "y_pred_tuned = clf_tuned.predict(X_test)\n",
        "\n",
        "print(\"\\n Tuned Model Accuracy:\", accuracy_score(y_test, y_pred_tuned))"
      ]
    },
    {
      "cell_type": "code",
      "execution_count": 9,
      "metadata": {
        "colab": {
          "base_uri": "https://localhost:8080/",
          "height": 701
        },
        "id": "Rw7GKgG1rfOM",
        "outputId": "04c3a080-9797-47f7-99f0-8b206299c591"
      },
      "outputs": [
        {
          "output_type": "stream",
          "name": "stdout",
          "text": [
            "\n",
            " Feature Importances:\n",
            " Salary              0.313627\n",
            "Age                 0.233029\n",
            "Years_At_Company    0.180854\n",
            "JobSatisfaction     0.129833\n",
            "Department          0.112483\n",
            "Overtime            0.030173\n",
            "dtype: float64\n"
          ]
        },
        {
          "output_type": "display_data",
          "data": {
            "text/plain": [
              "<Figure size 1000x600 with 1 Axes>"
            ],
            "image/png": "[encoded data removed]"
          },
          "metadata": {}
        }
      ],
      "source": [
        "# Step 6: Feature Importance\n",
        "importances = pd.Series(clf.feature_importances_, index=X.columns)\n",
        "importances = importances.sort_values(ascending=False)\n",
        "\n",
        "print(\"\\n Feature Importances:\\n\", importances)\n",
        "\n",
        "plt.figure(figsize=(10,6))\n",
        "sns.barplot(x=importances.values, y=importances.index)\n",
        "plt.title(\"Feature Importance - Random Forest\")\n",
        "plt.show()"
      ]
    }
  ],
  "metadata": {
    "colab": {
      "provenance": []
    },
    "kernelspec": {
      "display_name": "Python 3",
      "name": "python3"
    },
    "language_info": {
      "name": "python"
    }
  },
  "nbformat": 4,
  "nbformat_minor": 0
}