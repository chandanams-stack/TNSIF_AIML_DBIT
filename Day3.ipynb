{
  "nbformat": 4,
  "nbformat_minor": 0,
  "metadata": {
    "colab": {
      "provenance": [],
      "include_colab_link": true
    },
    "kernelspec": {
      "name": "python3",
      "display_name": "Python 3"
    },
    "language_info": {
      "name": "python"
    }
  },
  "cells": [
    {
      "cell_type": "markdown",
      "metadata": {
        "id": "view-in-github",
        "colab_type": "text"
      },
      "source": [
        "<a href=\"https://colab.research.google.com/github/chandanams-stack/TNSIF_AIML_DBIT/blob/main/Day3.ipynb\" target=\"_parent\"><img src=\"https://colab.research.google.com/assets/colab-badge.svg\" alt=\"Open In Colab\"/></a>"
      ]
    },
    {
      "cell_type": "code",
      "execution_count": null,
      "metadata": {
        "colab": {
          "base_uri": "https://localhost:8080/"
        },
        "id": "7Wyc3ujrEo1E",
        "outputId": "10c12990-c689-4c35-d0c4-b9b51b10dfd5"
      },
      "outputs": [
        {
          "output_type": "stream",
          "name": "stdout",
          "text": [
            "Enter 10 numbers:\n",
            "Enter number 1: 10\n",
            "Enter number 2: 9\n",
            "Enter number 3: 8\n",
            "Enter number 4: 7\n",
            "Enter number 5: 6\n",
            "Enter number 6: 5\n",
            "Enter number 7: 4\n",
            "Enter number 8: 3\n",
            "Enter number 9: 2\n",
            "Enter number 10: 1\n",
            "\n",
            "Removed 3rd element: 8\n",
            "\n",
            "Final list after removing 3rd element and all odd numbers:\n",
            "[10, 6, 4, 2]\n"
          ]
        }
      ],
      "source": [
        "numbers = []\n",
        "print(\"Enter 10 numbers:\")\n",
        "for i in range(10):\n",
        "    num = int(input(f\"Enter number {i+1}: \"))\n",
        "    numbers.append(num)\n",
        "if len(numbers) >= 3:\n",
        "    removed_element = numbers.pop(2)\n",
        "    print(f\"\\nRemoved 3rd element: {removed_element}\")\n",
        "numbers = [num for num in numbers if num % 2 == 0]\n",
        "print(\"\\nFinal list after removing 3rd element and all odd numbers:\")\n",
        "print(numbers)\n"
      ]
    }
  ]
}